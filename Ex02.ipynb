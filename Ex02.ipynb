{
  "nbformat": 4,
  "nbformat_minor": 0,
  "metadata": {
    "colab": {
      "provenance": []
    },
    "kernelspec": {
      "name": "python3",
      "display_name": "Python 3"
    },
    "language_info": {
      "name": "python"
    }
  },
  "cells": [
    {
      "cell_type": "code",
      "source": [
        "pip install git+https://github.com/mimoralea/gym-walk#egg=gym-walk\n"
      ],
      "metadata": {
        "colab": {
          "base_uri": "https://localhost:8080/"
        },
        "id": "AtfpyC76f9-l",
        "outputId": "d0e9685f-c928-47e2-8184-7b4daf00f9bf"
      },
      "execution_count": null,
      "outputs": [
        {
          "output_type": "stream",
          "name": "stdout",
          "text": [
            "Collecting gym-walk\n",
            "  Cloning https://github.com/mimoralea/gym-walk to /tmp/pip-install-i2elriae/gym-walk_6b078d170cdb407e91a35d0bbab5f5c5\n",
            "  Running command git clone --filter=blob:none --quiet https://github.com/mimoralea/gym-walk /tmp/pip-install-i2elriae/gym-walk_6b078d170cdb407e91a35d0bbab5f5c5\n",
            "  Resolved https://github.com/mimoralea/gym-walk to commit 5999016267d6de2f5a63307fb00dfd63de319ac1\n",
            "  Preparing metadata (setup.py) ... \u001b[?25l\u001b[?25hdone\n",
            "Requirement already satisfied: gym in /usr/local/lib/python3.10/dist-packages (from gym-walk) (0.25.2)\n",
            "Requirement already satisfied: numpy>=1.18.0 in /usr/local/lib/python3.10/dist-packages (from gym->gym-walk) (1.26.4)\n",
            "Requirement already satisfied: cloudpickle>=1.2.0 in /usr/local/lib/python3.10/dist-packages (from gym->gym-walk) (2.2.1)\n",
            "Requirement already satisfied: gym-notices>=0.0.4 in /usr/local/lib/python3.10/dist-packages (from gym->gym-walk) (0.0.8)\n",
            "Building wheels for collected packages: gym-walk\n",
            "  Building wheel for gym-walk (setup.py) ... \u001b[?25l\u001b[?25hdone\n",
            "  Created wheel for gym-walk: filename=gym_walk-0.0.2-py3-none-any.whl size=4058 sha256=ba521d90b26c146e9983a6135a6ebea8b0c8f53f85b87046ee89387e842262d0\n",
            "  Stored in directory: /tmp/pip-ephem-wheel-cache-b0mmglpr/wheels/24/fe/c4/0cbc7511d29265bad7e28a09311db3f87f0cafba74af54d530\n",
            "Successfully built gym-walk\n",
            "Installing collected packages: gym-walk\n",
            "Successfully installed gym-walk-0.0.2\n"
          ]
        }
      ]
    },
    {
      "cell_type": "code",
      "source": [
        "import warnings ; warnings.filterwarnings('ignore')\n",
        "\n",
        "import gym, gym_walk\n",
        "import numpy as np\n",
        "\n",
        "import random\n",
        "import warnings\n",
        "\n",
        "warnings.filterwarnings('ignore', category=DeprecationWarning)\n",
        "np.set_printoptions(suppress=True)\n",
        "random.seed(123); np.random.seed(123)"
      ],
      "metadata": {
        "id": "IDi4Fuv6f_SD"
      },
      "execution_count": null,
      "outputs": []
    },
    {
      "cell_type": "code",
      "source": [
        "def print_policy(pi, P, action_symbols=('<', 'v', '>', '^'), n_cols=4, title='Policy:'):\n",
        "    print(title)\n",
        "    arrs = {k:v for k,v in enumerate(action_symbols)}\n",
        "    for s in range(len(P)):\n",
        "        a = pi(s)\n",
        "        print(\"| \", end=\"\")\n",
        "        if np.all([done for action in P[s].values() for _, _, _, done in action]):\n",
        "            print(\"\".rjust(9), end=\" \")\n",
        "        else:\n",
        "            print(str(s).zfill(2), arrs[a].rjust(6), end=\" \")\n",
        "        if (s + 1) % n_cols == 0: print(\"|\")"
      ],
      "metadata": {
        "id": "j0MfR1DdgHlw"
      },
      "execution_count": null,
      "outputs": []
    },
    {
      "cell_type": "code",
      "source": [
        "def print_state_value_function(V, P, n_cols=4, prec=3, title='State-value function:'):\n",
        "    print(title)\n",
        "    for s in range(len(P)):\n",
        "        v = V[s]\n",
        "        print(\"| \", end=\"\")\n",
        "        if np.all([done for action in P[s].values() for _, _, _, done in action]):\n",
        "            print(\"\".rjust(9), end=\" \")\n",
        "        else:\n",
        "            print(str(s).zfill(2), '{}'.format(np.round(v, prec)).rjust(6), end=\" \")\n",
        "        if (s + 1) % n_cols == 0: print(\"|\")"
      ],
      "metadata": {
        "id": "OkvybzZpgLj4"
      },
      "execution_count": null,
      "outputs": []
    },
    {
      "cell_type": "code",
      "source": [
        "def probability_success(env, pi, goal_state, n_episodes=100, max_steps=200):\n",
        "    random.seed(123); np.random.seed(123) ; env.seed(123)\n",
        "    results = []\n",
        "    for _ in range(n_episodes):\n",
        "        state, done, steps = env.reset(), False, 0\n",
        "        while not done and steps < max_steps:\n",
        "            state, _, done, h = env.step(pi(state))\n",
        "            steps += 1\n",
        "        results.append(state == goal_state)\n",
        "    return np.sum(results)/len(results)"
      ],
      "metadata": {
        "id": "cku-l0NmgOMd"
      },
      "execution_count": null,
      "outputs": []
    },
    {
      "cell_type": "code",
      "source": [
        "def mean_return(env, pi, n_episodes=100, max_steps=200):\n",
        "    random.seed(123); np.random.seed(123) ; env.seed(123)\n",
        "    results = []\n",
        "    for _ in range(n_episodes):\n",
        "        state, done, steps = env.reset(), False, 0\n",
        "        results.append(0.0)\n",
        "        while not done and steps < max_steps:\n",
        "            state, reward, done, _ = env.step(pi(state))\n",
        "            results[-1] += reward\n",
        "            steps += 1\n",
        "    return np.mean(results)"
      ],
      "metadata": {
        "id": "-UBpL83Iho1R"
      },
      "execution_count": null,
      "outputs": []
    },
    {
      "cell_type": "code",
      "source": [
        "env = gym.make('SlipperyWalkFive-v0')\n",
        "P = env.env.P\n",
        "init_state = env.reset()\n",
        "goal_state = 6\n",
        "LEFT, RIGHT = range(2)"
      ],
      "metadata": {
        "id": "bTvlvfSgh3TP"
      },
      "execution_count": null,
      "outputs": []
    },
    {
      "cell_type": "code",
      "source": [
        "P"
      ],
      "metadata": {
        "colab": {
          "base_uri": "https://localhost:8080/"
        },
        "id": "-Cprmsm6h--r",
        "outputId": "94c2c835-51d6-4be4-a333-44c64a98ad26"
      },
      "execution_count": null,
      "outputs": [
        {
          "output_type": "execute_result",
          "data": {
            "text/plain": [
              "{0: {0: [(0.5000000000000001, 0, 0.0, True),\n",
              "   (0.3333333333333333, 0, 0.0, True),\n",
              "   (0.16666666666666666, 0, 0.0, True)],\n",
              "  1: [(0.5000000000000001, 0, 0.0, True),\n",
              "   (0.3333333333333333, 0, 0.0, True),\n",
              "   (0.16666666666666666, 0, 0.0, True)]},\n",
              " 1: {0: [(0.5000000000000001, 0, 0.0, True),\n",
              "   (0.3333333333333333, 1, 0.0, False),\n",
              "   (0.16666666666666666, 2, 0.0, False)],\n",
              "  1: [(0.5000000000000001, 2, 0.0, False),\n",
              "   (0.3333333333333333, 1, 0.0, False),\n",
              "   (0.16666666666666666, 0, 0.0, True)]},\n",
              " 2: {0: [(0.5000000000000001, 1, 0.0, False),\n",
              "   (0.3333333333333333, 2, 0.0, False),\n",
              "   (0.16666666666666666, 3, 0.0, False)],\n",
              "  1: [(0.5000000000000001, 3, 0.0, False),\n",
              "   (0.3333333333333333, 2, 0.0, False),\n",
              "   (0.16666666666666666, 1, 0.0, False)]},\n",
              " 3: {0: [(0.5000000000000001, 2, 0.0, False),\n",
              "   (0.3333333333333333, 3, 0.0, False),\n",
              "   (0.16666666666666666, 4, 0.0, False)],\n",
              "  1: [(0.5000000000000001, 4, 0.0, False),\n",
              "   (0.3333333333333333, 3, 0.0, False),\n",
              "   (0.16666666666666666, 2, 0.0, False)]},\n",
              " 4: {0: [(0.5000000000000001, 3, 0.0, False),\n",
              "   (0.3333333333333333, 4, 0.0, False),\n",
              "   (0.16666666666666666, 5, 0.0, False)],\n",
              "  1: [(0.5000000000000001, 5, 0.0, False),\n",
              "   (0.3333333333333333, 4, 0.0, False),\n",
              "   (0.16666666666666666, 3, 0.0, False)]},\n",
              " 5: {0: [(0.5000000000000001, 4, 0.0, False),\n",
              "   (0.3333333333333333, 5, 0.0, False),\n",
              "   (0.16666666666666666, 6, 1.0, True)],\n",
              "  1: [(0.5000000000000001, 6, 1.0, True),\n",
              "   (0.3333333333333333, 5, 0.0, False),\n",
              "   (0.16666666666666666, 4, 0.0, False)]},\n",
              " 6: {0: [(0.5000000000000001, 6, 0.0, True),\n",
              "   (0.3333333333333333, 6, 0.0, True),\n",
              "   (0.16666666666666666, 6, 0.0, True)],\n",
              "  1: [(0.5000000000000001, 6, 0.0, True),\n",
              "   (0.3333333333333333, 6, 0.0, True),\n",
              "   (0.16666666666666666, 6, 0.0, True)]}}"
            ]
          },
          "metadata": {},
          "execution_count": 8
        }
      ]
    },
    {
      "cell_type": "code",
      "source": [
        "init_state"
      ],
      "metadata": {
        "colab": {
          "base_uri": "https://localhost:8080/"
        },
        "id": "BI6W-jFWiTO8",
        "outputId": "6346edb8-a40a-4c9f-9908-ac58cac6e15c"
      },
      "execution_count": null,
      "outputs": [
        {
          "output_type": "execute_result",
          "data": {
            "text/plain": [
              "3"
            ]
          },
          "metadata": {},
          "execution_count": 9
        }
      ]
    },
    {
      "cell_type": "code",
      "source": [
        "state, reward, done, info = env.step(RIGHT)\n",
        "print(\"state:{0} - reward:{1} - done:{2} - info:{3}\".format(state, reward, done, info))"
      ],
      "metadata": {
        "colab": {
          "base_uri": "https://localhost:8080/"
        },
        "id": "ZXt-HADniZrf",
        "outputId": "ffbd16f5-2c37-4ba1-bb28-516fce77ced5"
      },
      "execution_count": null,
      "outputs": [
        {
          "output_type": "stream",
          "name": "stdout",
          "text": [
            "state:2 - reward:0.0 - done:False - info:{'prob': 0.16666666666666666}\n"
          ]
        }
      ]
    },
    {
      "cell_type": "code",
      "source": [
        "pi_1 = lambda s: {\n",
        "    0:LEFT, 1:LEFT, 2:LEFT, 3:LEFT, 4:LEFT, 5:LEFT, 6:LEFT\n",
        "}[s]\n",
        "print_policy(pi_1, P, action_symbols=('<', '>'), n_cols=7)"
      ],
      "metadata": {
        "colab": {
          "base_uri": "https://localhost:8080/"
        },
        "id": "WQzcrMVBiftr",
        "outputId": "bd668b0b-5d1f-4295-90bd-3a0da305548e"
      },
      "execution_count": null,
      "outputs": [
        {
          "output_type": "stream",
          "name": "stdout",
          "text": [
            "Policy:\n",
            "|           | 01      < | 02      < | 03      < | 04      < | 05      < |           |\n"
          ]
        }
      ]
    },
    {
      "cell_type": "code",
      "source": [
        "print('Reaches goal {:.2f}%. Obtains an average undiscounted return of {:.4f}.'.format(\n",
        "    probability_success(env, pi_1, goal_state=goal_state)*100,\n",
        "    mean_return(env, pi_1)))"
      ],
      "metadata": {
        "colab": {
          "base_uri": "https://localhost:8080/"
        },
        "id": "EvP6MY0Gi3X7",
        "outputId": "9d61120d-c14d-47bc-da78-e555aa50928b"
      },
      "execution_count": null,
      "outputs": [
        {
          "output_type": "stream",
          "name": "stdout",
          "text": [
            "Reaches goal 3.00%. Obtains an average undiscounted return of 0.0300.\n"
          ]
        }
      ]
    },
    {
      "cell_type": "code",
      "source": [
        "pi_2 = lambda s: {\n",
        "    0:RIGHT, 1:RIGHT, 2:RIGHT, 3:RIGHT, 4:RIGHT, 5:RIGHT, 6:RIGHT\n",
        "}[s]\n",
        "\n",
        "print_policy(pi_2, P, action_symbols=('<', '>'), n_cols=7)"
      ],
      "metadata": {
        "colab": {
          "base_uri": "https://localhost:8080/"
        },
        "id": "hCExYjReo0a9",
        "outputId": "4914cd24-93b5-4216-83bc-9ac2a6d9c675"
      },
      "execution_count": null,
      "outputs": [
        {
          "output_type": "stream",
          "name": "stdout",
          "text": [
            "Policy:\n",
            "|           | 01      > | 02      > | 03      > | 04      > | 05      > |           |\n"
          ]
        }
      ]
    },
    {
      "cell_type": "code",
      "source": [
        "print('Reaches goal {:.2f}%. Obtains an average undiscounted return of {:.4f}.'.format(\n",
        "    probability_success(env, pi_2, goal_state=goal_state)*100,\n",
        "    mean_return(env, pi_2)))"
      ],
      "metadata": {
        "colab": {
          "base_uri": "https://localhost:8080/"
        },
        "id": "miC3Gw6go8kG",
        "outputId": "c13d6fc4-c311-47cb-d594-0d5e31ca51be"
      },
      "execution_count": null,
      "outputs": [
        {
          "output_type": "stream",
          "name": "stdout",
          "text": [
            "Reaches goal 97.00%. Obtains an average undiscounted return of 0.9700.\n"
          ]
        }
      ]
    },
    {
      "cell_type": "code",
      "source": [
        "def policy_evaluation(pi, P, gamma=1.0, theta=1e-10):\n",
        "    num_states = len(P)\n",
        "    V = np.zeros(num_states, dtype=np.float64)\n",
        "    while True:\n",
        "        delta = 0\n",
        "        for s in range(num_states):\n",
        "            v = V[s]\n",
        "            new_v = 0\n",
        "            a = pi(s)\n",
        "            for prob, next_state, reward, done in P[s][a]:\n",
        "                new_v += prob * (reward + gamma * V[next_state])\n",
        "            V[s] = new_v\n",
        "            delta = max(delta, abs(v - V[s]))\n",
        "        if delta < theta:\n",
        "            break\n",
        "    return V\n",
        "\n"
      ],
      "metadata": {
        "id": "cM06vv0Dl5N7"
      },
      "execution_count": null,
      "outputs": []
    },
    {
      "cell_type": "code",
      "source": [
        "V1 = policy_evaluation(pi_1, P)\n",
        "print_state_value_function(V1, P, n_cols=7, prec=5)"
      ],
      "metadata": {
        "colab": {
          "base_uri": "https://localhost:8080/"
        },
        "id": "dhd3AUesm8Lx",
        "outputId": "ae4e0c67-81de-413c-e412-2bb441c8c23f"
      },
      "execution_count": null,
      "outputs": [
        {
          "output_type": "stream",
          "name": "stdout",
          "text": [
            "State-value function:\n",
            "|           | 01 0.00275 | 02 0.01099 | 03 0.03571 | 04 0.10989 | 05 0.33242 |           |\n"
          ]
        }
      ]
    },
    {
      "cell_type": "code",
      "source": [
        "V2 = policy_evaluation(pi_2, P)\n",
        "print_state_value_function(V2, P, n_cols=7, prec=5)"
      ],
      "metadata": {
        "colab": {
          "base_uri": "https://localhost:8080/"
        },
        "id": "vmm0LSBYm8nG",
        "outputId": "06582e5e-8031-4dfd-f650-13a8486a9f65"
      },
      "execution_count": null,
      "outputs": [
        {
          "output_type": "stream",
          "name": "stdout",
          "text": [
            "State-value function:\n",
            "|           | 01 0.66758 | 02 0.89011 | 03 0.96429 | 04 0.98901 | 05 0.99725 |           |\n"
          ]
        }
      ]
    },
    {
      "cell_type": "code",
      "source": [
        "V1\n"
      ],
      "metadata": {
        "colab": {
          "base_uri": "https://localhost:8080/"
        },
        "id": "WuDsttHkm_j8",
        "outputId": "460d6a1c-164b-4c57-e8e0-473e595e5fdb"
      },
      "execution_count": null,
      "outputs": [
        {
          "output_type": "execute_result",
          "data": {
            "text/plain": [
              "array([0.        , 0.00274725, 0.01098901, 0.03571429, 0.10989011,\n",
              "       0.33241758, 0.        ])"
            ]
          },
          "metadata": {},
          "execution_count": 21
        }
      ]
    },
    {
      "cell_type": "code",
      "source": [
        "print_state_value_function(V1, P, n_cols=7, prec=5)"
      ],
      "metadata": {
        "colab": {
          "base_uri": "https://localhost:8080/"
        },
        "id": "2HCEUTdCZY4m",
        "outputId": "cd567974-8a9f-4d96-d462-7488f45c91f3"
      },
      "execution_count": null,
      "outputs": [
        {
          "output_type": "stream",
          "name": "stdout",
          "text": [
            "State-value function:\n",
            "|           | 01 0.00275 | 02 0.01099 | 03 0.03571 | 04 0.10989 | 05 0.33242 |           |\n"
          ]
        }
      ]
    },
    {
      "cell_type": "code",
      "source": [
        "V2"
      ],
      "metadata": {
        "colab": {
          "base_uri": "https://localhost:8080/"
        },
        "id": "7ATefaOunYMA",
        "outputId": "0a400d82-f022-49d7-fda5-7d8f77196811"
      },
      "execution_count": null,
      "outputs": [
        {
          "output_type": "execute_result",
          "data": {
            "text/plain": [
              "array([0.        , 0.66758242, 0.89010989, 0.96428571, 0.98901099,\n",
              "       0.99725275, 0.        ])"
            ]
          },
          "metadata": {},
          "execution_count": 23
        }
      ]
    },
    {
      "cell_type": "code",
      "source": [
        "print_state_value_function(V2, P, n_cols=7, prec=5)"
      ],
      "metadata": {
        "colab": {
          "base_uri": "https://localhost:8080/"
        },
        "id": "JSdYwYKLZcNi",
        "outputId": "137fd8e8-6149-4e33-cfe3-0f4398c1dbe1"
      },
      "execution_count": null,
      "outputs": [
        {
          "output_type": "stream",
          "name": "stdout",
          "text": [
            "State-value function:\n",
            "|           | 01 0.66758 | 02 0.89011 | 03 0.96429 | 04 0.98901 | 05 0.99725 |           |\n"
          ]
        }
      ]
    },
    {
      "cell_type": "code",
      "source": [
        "V1>=V2"
      ],
      "metadata": {
        "id": "XKep29lqZx_s",
        "outputId": "cfc4f52f-202e-4386-d7df-952f3f2e17c5",
        "colab": {
          "base_uri": "https://localhost:8080/"
        }
      },
      "execution_count": null,
      "outputs": [
        {
          "output_type": "execute_result",
          "data": {
            "text/plain": [
              "array([ True, False, False, False, False, False,  True])"
            ]
          },
          "metadata": {},
          "execution_count": 25
        }
      ]
    },
    {
      "cell_type": "code",
      "source": [
        "if(np.sum(V1>=V2)==7):\n",
        "  print(\"The first policy is the better policy\")\n",
        "elif(np.sum(V2>=V1)==7):\n",
        "  print(\"The second policy is the better policy\")\n",
        "else:\n",
        "  print(\"Both policies have their merits.\")"
      ],
      "metadata": {
        "colab": {
          "base_uri": "https://localhost:8080/"
        },
        "id": "TtG8nDn1nc51",
        "outputId": "4ad8f40e-f592-47d0-ed9c-558ffab8db70"
      },
      "execution_count": null,
      "outputs": [
        {
          "output_type": "stream",
          "name": "stdout",
          "text": [
            "The second policy is the better policy\n"
          ]
        }
      ]
    },
    {
      "cell_type": "code",
      "source": [],
      "metadata": {
        "id": "BIJfROO-niXl"
      },
      "execution_count": null,
      "outputs": []
    }
  ]
}
